{
 "cells": [
  {
   "cell_type": "markdown",
   "id": "8d717bd2",
   "metadata": {},
   "source": [
    "# 03. Dashboard Design and Visualization"
   ]
  },
  {
   "cell_type": "markdown",
   "id": "7130ff85",
   "metadata": {},
   "source": [
    "Step 1: Data Preparation for Visualization"
   ]
  },
  {
   "cell_type": "code",
   "execution_count": null,
   "id": "be8f3a06",
   "metadata": {},
   "outputs": [],
   "source": [
    "# Step 1.1: Import Required Libraries\n",
    "import pandas as pd\n",
    "import sqlite3\n",
    "import matplotlib.pyplot as plt\n",
    "import seaborn as sns\n"
   ]
  },
  {
   "cell_type": "code",
   "execution_count": null,
   "id": "9573a83d",
   "metadata": {},
   "outputs": [],
   "source": [
    "# Step 1.2: Load Data from the SQLite Database\n",
    "conn = sqlite3.connect('fleet_health_performance.db')\n",
    "\n",
    "# Load the entire dataset or specific parts needed for visualization\n",
    "df = pd.read_sql('SELECT * FROM fleet_data', conn)\n",
    "\n",
    "# Close the database connection\n",
    "conn.close()\n",
    "\n",
    "# Display the first few rows of the DataFrame\n",
    "df.head()\n"
   ]
  },
  {
   "cell_type": "code",
   "execution_count": null,
   "id": "3184f9f1",
   "metadata": {},
   "outputs": [],
   "source": [
    "# Step 1.3: Prepare Data for Visualization\n",
    "# Example: Convert timestamps to datetime if not already done\n",
    "df['Timestamp'] = pd.to_datetime(df['Timestamp'])\n",
    "\n",
    "# Example: Create additional columns or aggregate data as needed\n",
    "avg_temp_per_vehicle = df.groupby('Vehicle ID')['Engine Temp (°C)'].mean().reset_index()\n"
   ]
  },
  {
   "cell_type": "markdown",
   "id": "cee7dc7b",
   "metadata": {},
   "source": [
    "Step 2: Create Static Visualizations with Matplotlib and Seaborn"
   ]
  },
  {
   "cell_type": "code",
   "execution_count": null,
   "id": "a3bf6792",
   "metadata": {},
   "outputs": [],
   "source": [
    "# Step 2.1: Plot Engine Temperature Over Time for a Specific Vehicle\n",
    "plt.figure(figsize=(10, 6))\n",
    "plt.plot(df['Timestamp'], df['Engine Temp (°C)'])\n",
    "plt.title('Engine Temperature Over Time')\n",
    "plt.xlabel('Time')\n",
    "plt.ylabel('Engine Temperature (°C)')\n",
    "plt.show()\n"
   ]
  },
  {
   "cell_type": "code",
   "execution_count": null,
   "id": "a4d97f7a",
   "metadata": {},
   "outputs": [],
   "source": [
    "# Step 2.2: Plot Average Engine Temperature by Vehicle\n",
    "plt.figure(figsize=(10, 6))\n",
    "sns.barplot(x='Vehicle ID', y='Engine Temp (°C)', data=avg_temp_per_vehicle)\n",
    "plt.title('Average Engine Temperature by Vehicle')\n",
    "plt.xlabel('Vehicle ID')\n",
    "plt.ylabel('Average Engine Temperature (°C)')\n",
    "plt.show()\n"
   ]
  },
  {
   "cell_type": "code",
   "execution_count": null,
   "id": "dd46d6d8",
   "metadata": {},
   "outputs": [],
   "source": [
    "# Step 2.3: Create a Heatmap to Show Correlations Between Features\n",
    "plt.figure(figsize=(12, 8))\n",
    "sns.heatmap(df.corr(), annot=True, cmap='coolwarm')\n",
    "plt.title('Feature Correlation Heatmap')\n",
    "plt.show()\n"
   ]
  },
  {
   "cell_type": "markdown",
   "id": "c64f3873",
   "metadata": {},
   "source": [
    "Step 3: Build Interactive Dashboards Using Plotly and Dash"
   ]
  },
  {
   "cell_type": "code",
   "execution_count": null,
   "id": "1a17e253",
   "metadata": {},
   "outputs": [],
   "source": [
    "# Step 3.1: Install Plotly and Dash\n",
    "!pip install plotly dash\n"
   ]
  },
  {
   "cell_type": "code",
   "execution_count": null,
   "id": "0250624f",
   "metadata": {},
   "outputs": [],
   "source": [
    "# Step 3.2: Set Up a Basic Dash App\n",
    "import dash\n",
    "from dash import dcc, html\n",
    "from dash.dependencies import Input, Output\n",
    "import plotly.express as px\n",
    "\n",
    "# Initialize the Dash app\n",
    "app = dash.Dash(__name__)\n",
    "\n",
    "# Define the layout of the app\n",
    "app.layout = html.Div([\n",
    "    html.H1(\"Fleet Health Monitoring Dashboard\"),\n",
    "    dcc.Dropdown(\n",
    "        id='vehicle-dropdown',\n",
    "        options=[{'label': vehicle, 'value': vehicle} for vehicle in df['Vehicle ID'].unique()],\n",
    "        value=df['Vehicle ID'].unique()[0],\n",
    "        clearable=False\n",
    "    ),\n",
    "    dcc.Graph(id='temp-graph')\n",
    "])\n",
    "\n",
    "# Define the callback to update the graph based on the selected vehicle\n",
    "@app.callback(\n",
    "    Output('temp-graph', 'figure'),\n",
    "    [Input('vehicle-dropdown', 'value')]\n",
    ")\n",
    "def update_graph(selected_vehicle):\n",
    "    filtered_df = df[df['Vehicle ID'] == selected_vehicle]\n",
    "    fig = px.line(filtered_df, x='Timestamp', y='Engine Temp (°C)',\n",
    "                  title=f'Engine Temperature Over Time for Vehicle {selected_vehicle}')\n",
    "    return fig\n",
    "\n",
    "# Run the app\n",
    "if __name__ == '__main__':\n",
    "    app.run_server(debug=True)\n"
   ]
  },
  {
   "cell_type": "code",
   "execution_count": null,
   "id": "3fc0692a",
   "metadata": {},
   "outputs": [],
   "source": [
    "# Step 3.3: Add Additional Interactive Elements to the Dashboard\n",
    "app.layout = html.Div([\n",
    "    html.H1(\"Fleet Health Monitoring Dashboard\"),\n",
    "    dcc.Dropdown(\n",
    "        id='vehicle-dropdown',\n",
    "        options=[{'label': vehicle, 'value': vehicle} for vehicle in df['Vehicle ID'].unique()],\n",
    "        value=df['Vehicle ID'].unique()[0],\n",
    "        clearable=False\n",
    "    ),\n",
    "    dcc.Graph(id='temp-graph'),\n",
    "    dcc.Graph(id='battery-graph')\n",
    "])\n",
    "\n",
    "# Update both graphs based on the selected vehicle\n",
    "@app.callback(\n",
    "    [Output('temp-graph', 'figure'),\n",
    "     Output('battery-graph', 'figure')],\n",
    "    [Input('vehicle-dropdown', 'value')]\n",
    ")\n",
    "def update_graphs(selected_vehicle):\n",
    "    filtered_df = df[df['Vehicle ID'] == selected_vehicle]\n",
    "    temp_fig = px.line(filtered_df, x='Timestamp', y='Engine Temp (°C)',\n",
    "                       title=f'Engine Temperature Over Time for Vehicle {selected_vehicle}')\n",
    "    battery_fig = px.line(filtered_df, x='Timestamp', y='Battery SoC (%)',\n",
    "                          title=f'Battery State of Charge Over Time for Vehicle {selected_vehicle}')\n",
    "    return temp_fig, battery_fig\n",
    "\n",
    "if __name__ == '__main__':\n",
    "    app.run_server(debug=True)\n"
   ]
  },
  {
   "cell_type": "markdown",
   "id": "18926e6a",
   "metadata": {},
   "source": [
    "Step 4: Deploying the Dashboard"
   ]
  },
  {
   "cell_type": "code",
   "execution_count": null,
   "id": "d9f8f1f5",
   "metadata": {},
   "outputs": [],
   "source": [
    "# Step 4.1: Deploying on a Local Server\n",
    "# This is done by running the script above and accessing the dashboard via a local browser (e.g., http://127.0.0.1:8050/)\n"
   ]
  },
  {
   "cell_type": "code",
   "execution_count": null,
   "id": "8ca2eb8f",
   "metadata": {},
   "outputs": [],
   "source": []
  }
 ],
 "metadata": {
  "kernelspec": {
   "display_name": "Python 3 (ipykernel)",
   "language": "python",
   "name": "python3"
  },
  "language_info": {
   "codemirror_mode": {
    "name": "ipython",
    "version": 3
   },
   "file_extension": ".py",
   "mimetype": "text/x-python",
   "name": "python",
   "nbconvert_exporter": "python",
   "pygments_lexer": "ipython3",
   "version": "3.11.5"
  }
 },
 "nbformat": 4,
 "nbformat_minor": 5
}
