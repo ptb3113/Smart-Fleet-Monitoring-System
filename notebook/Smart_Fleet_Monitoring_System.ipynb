{
 "cells": [
  {
   "cell_type": "markdown",
   "id": "4b7eb66e",
   "metadata": {},
   "source": [
    "# Smart Fleet Monitoring System\n",
    "\n",
    "# By: Pratham Brahmbhatt\n"
   ]
  },
  {
   "cell_type": "markdown",
   "id": "5fc010bd",
   "metadata": {},
   "source": [
    "Project Name: Smart Fleet Monitoring System\n",
    "\n",
    "Project Objective:\n",
    "The objective of the Smart Fleet Monitoring System is to develop a robust and scalable platform that utilizes real-time data processing, advanced machine learning models, and dynamic visualizations to monitor and optimize the health and performance of a vehicle fleet. The system aims to increase data processing efficiency, improve predictive maintenance accuracy, and enhance decision-making capabilities by leveraging tools such as Apache Spark, Airflow, SQL, and Tableau. This project also focuses on effective project management using JIRA, ensuring that all components are seamlessly integrated and aligned with industry best practices.\n"
   ]
  },
  {
   "cell_type": "markdown",
   "id": "1390de62",
   "metadata": {},
   "source": [
    "# 01. Data Processing and System Architecture"
   ]
  },
  {
   "cell_type": "markdown",
   "id": "8221be89",
   "metadata": {},
   "source": [
    "Step 1: Set Up the Development Environment"
   ]
  },
  {
   "cell_type": "code",
   "execution_count": 1,
   "id": "ec5f6847",
   "metadata": {},
   "outputs": [
    {
     "name": "stdout",
     "output_type": "stream",
     "text": [
      "Requirement already satisfied: pandas in /opt/anaconda3/lib/python3.11/site-packages (2.1.4)\n",
      "Requirement already satisfied: dask in /opt/anaconda3/lib/python3.11/site-packages (2023.11.0)\n",
      "Requirement already satisfied: sqlalchemy in /opt/anaconda3/lib/python3.11/site-packages (2.0.25)\n",
      "Requirement already satisfied: numpy in /opt/anaconda3/lib/python3.11/site-packages (1.26.4)\n",
      "Requirement already satisfied: python-dateutil>=2.8.2 in /opt/anaconda3/lib/python3.11/site-packages (from pandas) (2.8.2)\n",
      "Requirement already satisfied: pytz>=2020.1 in /opt/anaconda3/lib/python3.11/site-packages (from pandas) (2023.3.post1)\n",
      "Requirement already satisfied: tzdata>=2022.1 in /opt/anaconda3/lib/python3.11/site-packages (from pandas) (2023.3)\n",
      "Requirement already satisfied: click>=8.1 in /opt/anaconda3/lib/python3.11/site-packages (from dask) (8.1.7)\n",
      "Requirement already satisfied: cloudpickle>=1.5.0 in /opt/anaconda3/lib/python3.11/site-packages (from dask) (2.2.1)\n",
      "Requirement already satisfied: fsspec>=2021.09.0 in /opt/anaconda3/lib/python3.11/site-packages (from dask) (2023.10.0)\n",
      "Requirement already satisfied: packaging>=20.0 in /opt/anaconda3/lib/python3.11/site-packages (from dask) (23.2)\n",
      "Requirement already satisfied: partd>=1.2.0 in /opt/anaconda3/lib/python3.11/site-packages (from dask) (1.4.1)\n",
      "Requirement already satisfied: pyyaml>=5.3.1 in /opt/anaconda3/lib/python3.11/site-packages (from dask) (6.0.1)\n",
      "Requirement already satisfied: toolz>=0.10.0 in /opt/anaconda3/lib/python3.11/site-packages (from dask) (0.12.0)\n",
      "Requirement already satisfied: importlib-metadata>=4.13.0 in /opt/anaconda3/lib/python3.11/site-packages (from dask) (7.0.1)\n",
      "Requirement already satisfied: typing-extensions>=4.6.0 in /opt/anaconda3/lib/python3.11/site-packages (from sqlalchemy) (4.9.0)\n",
      "Requirement already satisfied: greenlet!=0.4.17 in /opt/anaconda3/lib/python3.11/site-packages (from sqlalchemy) (3.0.1)\n",
      "Requirement already satisfied: zipp>=0.5 in /opt/anaconda3/lib/python3.11/site-packages (from importlib-metadata>=4.13.0->dask) (3.17.0)\n",
      "Requirement already satisfied: locket in /opt/anaconda3/lib/python3.11/site-packages (from partd>=1.2.0->dask) (1.0.0)\n",
      "Requirement already satisfied: six>=1.5 in /opt/anaconda3/lib/python3.11/site-packages (from python-dateutil>=2.8.2->pandas) (1.16.0)\n"
     ]
    }
   ],
   "source": [
    "# Step 1.1: Install Required Libraries\n",
    "!pip install pandas dask sqlalchemy numpy\n"
   ]
  },
  {
   "cell_type": "code",
   "execution_count": 2,
   "id": "e1626663",
   "metadata": {},
   "outputs": [
    {
     "name": "stderr",
     "output_type": "stream",
     "text": [
      "/Users/ptb/anaconda3/lib/python3.11/site-packages/pandas/core/arrays/masked.py:60: UserWarning: Pandas requires version '1.3.6' or newer of 'bottleneck' (version '1.3.5' currently installed).\n",
      "  from pandas.core import (\n"
     ]
    }
   ],
   "source": [
    "# Step 1.2: Import Necessary Libraries\n",
    "import pandas as pd\n",
    "import numpy as np\n",
    "import dask.dataframe as dd\n",
    "from sqlalchemy import create_engine\n"
   ]
  },
  {
   "cell_type": "markdown",
   "id": "d7d37189",
   "metadata": {},
   "source": [
    "Step 2: Load and Process the Dataset"
   ]
  },
  {
   "cell_type": "code",
   "execution_count": 3,
   "id": "8fd3b51d",
   "metadata": {},
   "outputs": [
    {
     "data": {
      "text/html": [
       "<div>\n",
       "<style scoped>\n",
       "    .dataframe tbody tr th:only-of-type {\n",
       "        vertical-align: middle;\n",
       "    }\n",
       "\n",
       "    .dataframe tbody tr th {\n",
       "        vertical-align: top;\n",
       "    }\n",
       "\n",
       "    .dataframe thead th {\n",
       "        text-align: right;\n",
       "    }\n",
       "</style>\n",
       "<table border=\"1\" class=\"dataframe\">\n",
       "  <thead>\n",
       "    <tr style=\"text-align: right;\">\n",
       "      <th></th>\n",
       "      <th>Vehicle ID</th>\n",
       "      <th>Timestamp</th>\n",
       "      <th>Engine Temp (°C)</th>\n",
       "      <th>Battery SoC (%)</th>\n",
       "      <th>Tire Pressure (psi)</th>\n",
       "      <th>Distance Traveled (km)</th>\n",
       "      <th>Maintenance Due (Days)</th>\n",
       "      <th>Predicted Failure (Days)</th>\n",
       "      <th>GPS Location</th>\n",
       "      <th>Maintenance Cost (USD)</th>\n",
       "      <th>System Health (Score)</th>\n",
       "    </tr>\n",
       "  </thead>\n",
       "  <tbody>\n",
       "    <tr>\n",
       "      <th>0</th>\n",
       "      <td>V001</td>\n",
       "      <td>01/05/24 0:00</td>\n",
       "      <td>86.527904</td>\n",
       "      <td>52.694767</td>\n",
       "      <td>34.429247</td>\n",
       "      <td>84.764440</td>\n",
       "      <td>5</td>\n",
       "      <td>49</td>\n",
       "      <td>37.2492, -122.8689</td>\n",
       "      <td>356.565883</td>\n",
       "      <td>95.723012</td>\n",
       "    </tr>\n",
       "    <tr>\n",
       "      <th>1</th>\n",
       "      <td>V001</td>\n",
       "      <td>01/05/24 1:00</td>\n",
       "      <td>87.284642</td>\n",
       "      <td>57.668993</td>\n",
       "      <td>29.752400</td>\n",
       "      <td>290.290570</td>\n",
       "      <td>3</td>\n",
       "      <td>32</td>\n",
       "      <td>37.3441, -122.8407</td>\n",
       "      <td>234.876990</td>\n",
       "      <td>67.753787</td>\n",
       "    </tr>\n",
       "    <tr>\n",
       "      <th>2</th>\n",
       "      <td>V001</td>\n",
       "      <td>01/05/24 2:00</td>\n",
       "      <td>84.038474</td>\n",
       "      <td>96.223331</td>\n",
       "      <td>31.871719</td>\n",
       "      <td>18.380769</td>\n",
       "      <td>29</td>\n",
       "      <td>28</td>\n",
       "      <td>37.5857, -122.6592</td>\n",
       "      <td>125.691897</td>\n",
       "      <td>71.273734</td>\n",
       "    </tr>\n",
       "    <tr>\n",
       "      <th>3</th>\n",
       "      <td>V001</td>\n",
       "      <td>01/05/24 3:00</td>\n",
       "      <td>80.693066</td>\n",
       "      <td>98.956751</td>\n",
       "      <td>30.688810</td>\n",
       "      <td>90.535646</td>\n",
       "      <td>24</td>\n",
       "      <td>7</td>\n",
       "      <td>37.0164, -122.4206</td>\n",
       "      <td>159.310216</td>\n",
       "      <td>81.386973</td>\n",
       "    </tr>\n",
       "    <tr>\n",
       "      <th>4</th>\n",
       "      <td>V001</td>\n",
       "      <td>01/05/24 4:00</td>\n",
       "      <td>82.633881</td>\n",
       "      <td>86.513392</td>\n",
       "      <td>29.788790</td>\n",
       "      <td>225.706303</td>\n",
       "      <td>5</td>\n",
       "      <td>12</td>\n",
       "      <td>37.7878, -122.4073</td>\n",
       "      <td>126.804247</td>\n",
       "      <td>92.308654</td>\n",
       "    </tr>\n",
       "  </tbody>\n",
       "</table>\n",
       "</div>"
      ],
      "text/plain": [
       "  Vehicle ID      Timestamp  Engine Temp (°C)  Battery SoC (%)  \\\n",
       "0       V001  01/05/24 0:00         86.527904        52.694767   \n",
       "1       V001  01/05/24 1:00         87.284642        57.668993   \n",
       "2       V001  01/05/24 2:00         84.038474        96.223331   \n",
       "3       V001  01/05/24 3:00         80.693066        98.956751   \n",
       "4       V001  01/05/24 4:00         82.633881        86.513392   \n",
       "\n",
       "   Tire Pressure (psi)  Distance Traveled (km)  Maintenance Due (Days)  \\\n",
       "0            34.429247               84.764440                       5   \n",
       "1            29.752400              290.290570                       3   \n",
       "2            31.871719               18.380769                      29   \n",
       "3            30.688810               90.535646                      24   \n",
       "4            29.788790              225.706303                       5   \n",
       "\n",
       "   Predicted Failure (Days)        GPS Location  Maintenance Cost (USD)  \\\n",
       "0                        49  37.2492, -122.8689              356.565883   \n",
       "1                        32  37.3441, -122.8407              234.876990   \n",
       "2                        28  37.5857, -122.6592              125.691897   \n",
       "3                         7  37.0164, -122.4206              159.310216   \n",
       "4                        12  37.7878, -122.4073              126.804247   \n",
       "\n",
       "   System Health (Score)  \n",
       "0              95.723012  \n",
       "1              67.753787  \n",
       "2              71.273734  \n",
       "3              81.386973  \n",
       "4              92.308654  "
      ]
     },
     "execution_count": 3,
     "metadata": {},
     "output_type": "execute_result"
    }
   ],
   "source": [
    "# Step 2.1: Load Dataset into Pandas DataFrame\n",
    "df = pd.read_csv('fleet_health_performance_dataset.csv')\n",
    "\n",
    "# Display the first few rows of the dataset\n",
    "df.head()\n"
   ]
  },
  {
   "cell_type": "markdown",
   "id": "12bfd4ec",
   "metadata": {},
   "source": [
    "2.2 Basic Data Preprocessing with Pandas\n",
    "\n"
   ]
  },
  {
   "cell_type": "code",
   "execution_count": 4,
   "id": "b43fbe50",
   "metadata": {},
   "outputs": [
    {
     "name": "stderr",
     "output_type": "stream",
     "text": [
      "/var/folders/62/mvj95ht93jb_vys63ypv4mmc0000gn/T/ipykernel_27729/82058883.py:2: FutureWarning: DataFrame.fillna with 'method' is deprecated and will raise in a future version. Use obj.ffill() or obj.bfill() instead.\n",
      "  df.fillna(method='ffill', inplace=True)\n"
     ]
    }
   ],
   "source": [
    "# Step 2.2.1: Handle Missing Values\n",
    "df.fillna(method='ffill', inplace=True)\n"
   ]
  },
  {
   "cell_type": "code",
   "execution_count": 5,
   "id": "5de03420",
   "metadata": {},
   "outputs": [
    {
     "name": "stderr",
     "output_type": "stream",
     "text": [
      "/var/folders/62/mvj95ht93jb_vys63ypv4mmc0000gn/T/ipykernel_27729/3506907637.py:2: UserWarning: Could not infer format, so each element will be parsed individually, falling back to `dateutil`. To ensure parsing is consistent and as-expected, please specify a format.\n",
      "  df['Timestamp'] = pd.to_datetime(df['Timestamp'])\n"
     ]
    }
   ],
   "source": [
    "# Step 2.2.2: Convert Timestamp to Datetime\n",
    "df['Timestamp'] = pd.to_datetime(df['Timestamp'])\n"
   ]
  },
  {
   "cell_type": "code",
   "execution_count": 6,
   "id": "8a674d51",
   "metadata": {},
   "outputs": [
    {
     "data": {
      "text/html": [
       "<div>\n",
       "<style scoped>\n",
       "    .dataframe tbody tr th:only-of-type {\n",
       "        vertical-align: middle;\n",
       "    }\n",
       "\n",
       "    .dataframe tbody tr th {\n",
       "        vertical-align: top;\n",
       "    }\n",
       "\n",
       "    .dataframe thead th {\n",
       "        text-align: right;\n",
       "    }\n",
       "</style>\n",
       "<table border=\"1\" class=\"dataframe\">\n",
       "  <thead>\n",
       "    <tr style=\"text-align: right;\">\n",
       "      <th></th>\n",
       "      <th>Vehicle ID</th>\n",
       "      <th>Timestamp</th>\n",
       "      <th>Engine Temp (°C)</th>\n",
       "      <th>Battery SoC (%)</th>\n",
       "      <th>Tire Pressure (psi)</th>\n",
       "      <th>Distance Traveled (km)</th>\n",
       "      <th>Maintenance Due (Days)</th>\n",
       "      <th>Predicted Failure (Days)</th>\n",
       "      <th>GPS Location</th>\n",
       "      <th>Maintenance Cost (USD)</th>\n",
       "      <th>System Health (Score)</th>\n",
       "    </tr>\n",
       "  </thead>\n",
       "  <tbody>\n",
       "    <tr>\n",
       "      <th>0</th>\n",
       "      <td>V001</td>\n",
       "      <td>2024-01-05 00:00:00</td>\n",
       "      <td>86.527904</td>\n",
       "      <td>52.694767</td>\n",
       "      <td>34.429247</td>\n",
       "      <td>84.764440</td>\n",
       "      <td>5</td>\n",
       "      <td>49</td>\n",
       "      <td>37.2492, -122.8689</td>\n",
       "      <td>356.565883</td>\n",
       "      <td>95.723012</td>\n",
       "    </tr>\n",
       "    <tr>\n",
       "      <th>1</th>\n",
       "      <td>V001</td>\n",
       "      <td>2024-01-05 01:00:00</td>\n",
       "      <td>87.284642</td>\n",
       "      <td>57.668993</td>\n",
       "      <td>29.752400</td>\n",
       "      <td>290.290570</td>\n",
       "      <td>3</td>\n",
       "      <td>32</td>\n",
       "      <td>37.3441, -122.8407</td>\n",
       "      <td>234.876990</td>\n",
       "      <td>67.753787</td>\n",
       "    </tr>\n",
       "    <tr>\n",
       "      <th>2</th>\n",
       "      <td>V001</td>\n",
       "      <td>2024-01-05 02:00:00</td>\n",
       "      <td>84.038474</td>\n",
       "      <td>96.223331</td>\n",
       "      <td>31.871719</td>\n",
       "      <td>18.380769</td>\n",
       "      <td>29</td>\n",
       "      <td>28</td>\n",
       "      <td>37.5857, -122.6592</td>\n",
       "      <td>125.691897</td>\n",
       "      <td>71.273734</td>\n",
       "    </tr>\n",
       "    <tr>\n",
       "      <th>3</th>\n",
       "      <td>V001</td>\n",
       "      <td>2024-01-05 03:00:00</td>\n",
       "      <td>80.693066</td>\n",
       "      <td>98.956751</td>\n",
       "      <td>30.688810</td>\n",
       "      <td>90.535646</td>\n",
       "      <td>24</td>\n",
       "      <td>7</td>\n",
       "      <td>37.0164, -122.4206</td>\n",
       "      <td>159.310216</td>\n",
       "      <td>81.386973</td>\n",
       "    </tr>\n",
       "    <tr>\n",
       "      <th>4</th>\n",
       "      <td>V001</td>\n",
       "      <td>2024-01-05 04:00:00</td>\n",
       "      <td>82.633881</td>\n",
       "      <td>86.513392</td>\n",
       "      <td>29.788790</td>\n",
       "      <td>225.706303</td>\n",
       "      <td>5</td>\n",
       "      <td>12</td>\n",
       "      <td>37.7878, -122.4073</td>\n",
       "      <td>126.804247</td>\n",
       "      <td>92.308654</td>\n",
       "    </tr>\n",
       "  </tbody>\n",
       "</table>\n",
       "</div>"
      ],
      "text/plain": [
       "  Vehicle ID           Timestamp  Engine Temp (°C)  Battery SoC (%)  \\\n",
       "0       V001 2024-01-05 00:00:00         86.527904        52.694767   \n",
       "1       V001 2024-01-05 01:00:00         87.284642        57.668993   \n",
       "2       V001 2024-01-05 02:00:00         84.038474        96.223331   \n",
       "3       V001 2024-01-05 03:00:00         80.693066        98.956751   \n",
       "4       V001 2024-01-05 04:00:00         82.633881        86.513392   \n",
       "\n",
       "   Tire Pressure (psi)  Distance Traveled (km)  Maintenance Due (Days)  \\\n",
       "0            34.429247               84.764440                       5   \n",
       "1            29.752400              290.290570                       3   \n",
       "2            31.871719               18.380769                      29   \n",
       "3            30.688810               90.535646                      24   \n",
       "4            29.788790              225.706303                       5   \n",
       "\n",
       "   Predicted Failure (Days)        GPS Location  Maintenance Cost (USD)  \\\n",
       "0                        49  37.2492, -122.8689              356.565883   \n",
       "1                        32  37.3441, -122.8407              234.876990   \n",
       "2                        28  37.5857, -122.6592              125.691897   \n",
       "3                         7  37.0164, -122.4206              159.310216   \n",
       "4                        12  37.7878, -122.4073              126.804247   \n",
       "\n",
       "   System Health (Score)  \n",
       "0              95.723012  \n",
       "1              67.753787  \n",
       "2              71.273734  \n",
       "3              81.386973  \n",
       "4              92.308654  "
      ]
     },
     "execution_count": 6,
     "metadata": {},
     "output_type": "execute_result"
    }
   ],
   "source": [
    "# Step 2.2.3: Convert Categorical Columns to Category Type\n",
    "df['Vehicle ID'] = df['Vehicle ID'].astype('category')\n",
    "\n",
    "# Display the DataFrame after preprocessing\n",
    "df.head()\n"
   ]
  },
  {
   "cell_type": "markdown",
   "id": "94b63f9e",
   "metadata": {},
   "source": [
    "2.3 Upload Data to SQL Database"
   ]
  },
  {
   "cell_type": "code",
   "execution_count": 7,
   "id": "70ef35b7",
   "metadata": {},
   "outputs": [],
   "source": [
    "# Step 2.3.1: Establish a Connection to the SQLite Database\n",
    "import sqlite3\n",
    "\n",
    "# Create a connection to the SQLite database\n",
    "conn = sqlite3.connect('fleet_health_performance.db')\n"
   ]
  },
  {
   "cell_type": "code",
   "execution_count": 8,
   "id": "5d6b1dde",
   "metadata": {},
   "outputs": [
    {
     "data": {
      "text/plain": [
       "432000"
      ]
     },
     "execution_count": 8,
     "metadata": {},
     "output_type": "execute_result"
    }
   ],
   "source": [
    "# Step 2.3.2: Write DataFrame to SQLite Database\n",
    "# Write the DataFrame to the SQLite database\n",
    "df.to_sql('fleet_data', conn, if_exists='replace', index=False)\n"
   ]
  },
  {
   "cell_type": "code",
   "execution_count": 9,
   "id": "f62a59fa",
   "metadata": {},
   "outputs": [
    {
     "name": "stdout",
     "output_type": "stream",
     "text": [
      "  Vehicle ID            Timestamp  Engine Temp (°C)  Battery SoC (%)  \\\n",
      "0       V001  2024-01-05 00:00:00         86.527904        52.694767   \n",
      "1       V001  2024-01-05 01:00:00         87.284642        57.668993   \n",
      "2       V001  2024-01-05 02:00:00         84.038474        96.223331   \n",
      "3       V001  2024-01-05 03:00:00         80.693066        98.956751   \n",
      "4       V001  2024-01-05 04:00:00         82.633881        86.513392   \n",
      "\n",
      "   Tire Pressure (psi)  Distance Traveled (km)  Maintenance Due (Days)  \\\n",
      "0            34.429247               84.764440                       5   \n",
      "1            29.752400              290.290570                       3   \n",
      "2            31.871719               18.380769                      29   \n",
      "3            30.688810               90.535646                      24   \n",
      "4            29.788790              225.706303                       5   \n",
      "\n",
      "   Predicted Failure (Days)        GPS Location  Maintenance Cost (USD)  \\\n",
      "0                        49  37.2492, -122.8689              356.565883   \n",
      "1                        32  37.3441, -122.8407              234.876990   \n",
      "2                        28  37.5857, -122.6592              125.691897   \n",
      "3                         7  37.0164, -122.4206              159.310216   \n",
      "4                        12  37.7878, -122.4073              126.804247   \n",
      "\n",
      "   System Health (Score)  \n",
      "0              95.723012  \n",
      "1              67.753787  \n",
      "2              71.273734  \n",
      "3              81.386973  \n",
      "4              92.308654  \n"
     ]
    }
   ],
   "source": [
    "# Step 2.3.3: Verify Data Load\n",
    "# Query the database to verify the data load\n",
    "result = pd.read_sql('SELECT * FROM fleet_data LIMIT 5;', conn)\n",
    "print(result)\n"
   ]
  },
  {
   "cell_type": "markdown",
   "id": "06dec5a1",
   "metadata": {},
   "source": [
    "Step 3: Data Processing with Dask and SQL"
   ]
  },
  {
   "cell_type": "code",
   "execution_count": 10,
   "id": "ace8ebaf",
   "metadata": {
    "scrolled": true
   },
   "outputs": [
    {
     "data": {
      "text/html": [
       "<div>\n",
       "<style scoped>\n",
       "    .dataframe tbody tr th:only-of-type {\n",
       "        vertical-align: middle;\n",
       "    }\n",
       "\n",
       "    .dataframe tbody tr th {\n",
       "        vertical-align: top;\n",
       "    }\n",
       "\n",
       "    .dataframe thead th {\n",
       "        text-align: right;\n",
       "    }\n",
       "</style>\n",
       "<table border=\"1\" class=\"dataframe\">\n",
       "  <thead>\n",
       "    <tr style=\"text-align: right;\">\n",
       "      <th></th>\n",
       "      <th>Vehicle ID</th>\n",
       "      <th>Timestamp</th>\n",
       "      <th>Engine Temp (°C)</th>\n",
       "      <th>Battery SoC (%)</th>\n",
       "      <th>Tire Pressure (psi)</th>\n",
       "      <th>Distance Traveled (km)</th>\n",
       "      <th>Maintenance Due (Days)</th>\n",
       "      <th>Predicted Failure (Days)</th>\n",
       "      <th>GPS Location</th>\n",
       "      <th>Maintenance Cost (USD)</th>\n",
       "      <th>System Health (Score)</th>\n",
       "    </tr>\n",
       "  </thead>\n",
       "  <tbody>\n",
       "    <tr>\n",
       "      <th>0</th>\n",
       "      <td>V001</td>\n",
       "      <td>01/05/24 0:00</td>\n",
       "      <td>86.527904</td>\n",
       "      <td>52.694767</td>\n",
       "      <td>34.429247</td>\n",
       "      <td>84.764440</td>\n",
       "      <td>5</td>\n",
       "      <td>49</td>\n",
       "      <td>37.2492, -122.8689</td>\n",
       "      <td>356.565883</td>\n",
       "      <td>95.723012</td>\n",
       "    </tr>\n",
       "    <tr>\n",
       "      <th>1</th>\n",
       "      <td>V001</td>\n",
       "      <td>01/05/24 1:00</td>\n",
       "      <td>87.284642</td>\n",
       "      <td>57.668993</td>\n",
       "      <td>29.752400</td>\n",
       "      <td>290.290570</td>\n",
       "      <td>3</td>\n",
       "      <td>32</td>\n",
       "      <td>37.3441, -122.8407</td>\n",
       "      <td>234.876990</td>\n",
       "      <td>67.753787</td>\n",
       "    </tr>\n",
       "    <tr>\n",
       "      <th>2</th>\n",
       "      <td>V001</td>\n",
       "      <td>01/05/24 2:00</td>\n",
       "      <td>84.038474</td>\n",
       "      <td>96.223331</td>\n",
       "      <td>31.871719</td>\n",
       "      <td>18.380769</td>\n",
       "      <td>29</td>\n",
       "      <td>28</td>\n",
       "      <td>37.5857, -122.6592</td>\n",
       "      <td>125.691897</td>\n",
       "      <td>71.273734</td>\n",
       "    </tr>\n",
       "    <tr>\n",
       "      <th>3</th>\n",
       "      <td>V001</td>\n",
       "      <td>01/05/24 3:00</td>\n",
       "      <td>80.693066</td>\n",
       "      <td>98.956751</td>\n",
       "      <td>30.688810</td>\n",
       "      <td>90.535646</td>\n",
       "      <td>24</td>\n",
       "      <td>7</td>\n",
       "      <td>37.0164, -122.4206</td>\n",
       "      <td>159.310216</td>\n",
       "      <td>81.386973</td>\n",
       "    </tr>\n",
       "    <tr>\n",
       "      <th>4</th>\n",
       "      <td>V001</td>\n",
       "      <td>01/05/24 4:00</td>\n",
       "      <td>82.633881</td>\n",
       "      <td>86.513392</td>\n",
       "      <td>29.788790</td>\n",
       "      <td>225.706303</td>\n",
       "      <td>5</td>\n",
       "      <td>12</td>\n",
       "      <td>37.7878, -122.4073</td>\n",
       "      <td>126.804247</td>\n",
       "      <td>92.308654</td>\n",
       "    </tr>\n",
       "  </tbody>\n",
       "</table>\n",
       "</div>"
      ],
      "text/plain": [
       "  Vehicle ID      Timestamp  Engine Temp (°C)  Battery SoC (%)  \\\n",
       "0       V001  01/05/24 0:00         86.527904        52.694767   \n",
       "1       V001  01/05/24 1:00         87.284642        57.668993   \n",
       "2       V001  01/05/24 2:00         84.038474        96.223331   \n",
       "3       V001  01/05/24 3:00         80.693066        98.956751   \n",
       "4       V001  01/05/24 4:00         82.633881        86.513392   \n",
       "\n",
       "   Tire Pressure (psi)  Distance Traveled (km)  Maintenance Due (Days)  \\\n",
       "0            34.429247               84.764440                       5   \n",
       "1            29.752400              290.290570                       3   \n",
       "2            31.871719               18.380769                      29   \n",
       "3            30.688810               90.535646                      24   \n",
       "4            29.788790              225.706303                       5   \n",
       "\n",
       "   Predicted Failure (Days)        GPS Location  Maintenance Cost (USD)  \\\n",
       "0                        49  37.2492, -122.8689              356.565883   \n",
       "1                        32  37.3441, -122.8407              234.876990   \n",
       "2                        28  37.5857, -122.6592              125.691897   \n",
       "3                         7  37.0164, -122.4206              159.310216   \n",
       "4                        12  37.7878, -122.4073              126.804247   \n",
       "\n",
       "   System Health (Score)  \n",
       "0              95.723012  \n",
       "1              67.753787  \n",
       "2              71.273734  \n",
       "3              81.386973  \n",
       "4              92.308654  "
      ]
     },
     "execution_count": 10,
     "metadata": {},
     "output_type": "execute_result"
    }
   ],
   "source": [
    "# Step 3.1: Load Data from CSV into Dask DataFrame\n",
    "import dask.dataframe as dd\n",
    "\n",
    "# Load the data from the CSV file using Dask\n",
    "dask_df = dd.read_csv('fleet_health_performance_dataset.csv')\n",
    "\n",
    "# Show the first few rows to verify the load\n",
    "dask_df.head()\n"
   ]
  },
  {
   "cell_type": "markdown",
   "id": "d390e887",
   "metadata": {},
   "source": [
    "3.2 Data Transformation with Dask"
   ]
  },
  {
   "cell_type": "code",
   "execution_count": 11,
   "id": "dc4a1dcc",
   "metadata": {},
   "outputs": [
    {
     "name": "stdout",
     "output_type": "stream",
     "text": [
      "Vehicle ID\n",
      "V001    84.984659\n",
      "V002    84.938300\n",
      "V003    84.990782\n",
      "V004    85.008706\n",
      "V005    84.995156\n",
      "          ...    \n",
      "V196    85.026989\n",
      "V197    85.096406\n",
      "V198    84.904267\n",
      "V199    84.881952\n",
      "V200    85.156297\n",
      "Name: Engine Temp (°C), Length: 200, dtype: float64\n"
     ]
    }
   ],
   "source": [
    "# Step 3.2.1: Calculate Average Engine Temperature per Vehicle with Dask\n",
    "avg_engine_temp = dask_df.groupby('Vehicle ID')['Engine Temp (°C)'].mean().compute()\n",
    "\n",
    "# Display the result\n",
    "print(avg_engine_temp)\n"
   ]
  },
  {
   "cell_type": "markdown",
   "id": "317a955c",
   "metadata": {},
   "source": [
    "3.3 Data Processing with SQL"
   ]
  },
  {
   "cell_type": "code",
   "execution_count": 12,
   "id": "bf991be8",
   "metadata": {},
   "outputs": [
    {
     "name": "stdout",
     "output_type": "stream",
     "text": [
      "    Vehicle ID  avg_engine_temp\n",
      "0         V001        84.984659\n",
      "1         V002        84.938300\n",
      "2         V003        84.990782\n",
      "3         V004        85.008706\n",
      "4         V005        84.995156\n",
      "..         ...              ...\n",
      "195       V196        85.026989\n",
      "196       V197        85.096406\n",
      "197       V198        84.904267\n",
      "198       V199        84.881952\n",
      "199       V200        85.156297\n",
      "\n",
      "[200 rows x 2 columns]\n"
     ]
    }
   ],
   "source": [
    "# Step 3.3.1: Query SQL Database for Average Engine Temperature\n",
    "# Import SQLite3 for database operations\n",
    "import sqlite3\n",
    "\n",
    "# Establish a connection to the SQLite database\n",
    "conn = sqlite3.connect('fleet_health_performance.db')\n",
    "\n",
    "# Perform the query\n",
    "query = \"\"\"\n",
    "SELECT \"Vehicle ID\", AVG(\"Engine Temp (°C)\") as avg_engine_temp\n",
    "FROM fleet_data\n",
    "GROUP BY \"Vehicle ID\"\n",
    "\"\"\"\n",
    "\n",
    "# Execute the query and load the result into a Pandas DataFrame\n",
    "avg_engine_temp_sql = pd.read_sql(query, con=conn)\n",
    "\n",
    "# Display the result\n",
    "print(avg_engine_temp_sql)\n",
    "\n",
    "# Close the database connection\n",
    "conn.close()\n"
   ]
  },
  {
   "cell_type": "markdown",
   "id": "69da2add",
   "metadata": {},
   "source": [
    "Step 4: Automate Data Pipeline"
   ]
  },
  {
   "cell_type": "code",
   "execution_count": 13,
   "id": "7aa8be5e",
   "metadata": {},
   "outputs": [],
   "source": [
    "# Step 4.1: Import Required Libraries\n",
    "import time\n",
    "import sqlite3\n",
    "import pandas as pd\n",
    "import dask.dataframe as dd\n"
   ]
  },
  {
   "cell_type": "code",
   "execution_count": 14,
   "id": "3871a50e",
   "metadata": {},
   "outputs": [],
   "source": [
    "# Step 4.2: Define the Data Processing Function\n",
    "def preprocess_and_query_data():\n",
    "    print(\"Starting data preprocessing and SQL queries...\")\n",
    "\n",
    "    # Load the data into Dask (or Pandas for smaller datasets)\n",
    "    dask_df = dd.read_csv('fleet_health_performance_dataset.csv')\n",
    "\n",
    "    # Perform a transformation (e.g., calculate average engine temperature)\n",
    "    avg_engine_temp = dask_df.groupby('Vehicle ID')['Engine Temp (°C)'].mean().compute()\n",
    "    print(\"Average Engine Temperature Calculation Done.\")\n",
    "\n",
    "    # Example SQL operation\n",
    "    conn = sqlite3.connect('fleet_health_performance.db')\n",
    "    query = \"\"\"\n",
    "    SELECT \"Vehicle ID\", AVG(\"Engine Temp (°C)\") as avg_engine_temp\n",
    "    FROM fleet_data\n",
    "    GROUP BY \"Vehicle ID\"\n",
    "    \"\"\"\n",
    "    avg_engine_temp_sql = pd.read_sql(query, con=conn)\n",
    "    print(\"SQL Query Done.\")\n",
    "    print(avg_engine_temp_sql)\n",
    "    conn.close()\n",
    "\n",
    "    print(\"Data processing and SQL queries completed.\")\n"
   ]
  },
  {
   "cell_type": "code",
   "execution_count": null,
   "id": "3d5c94d9",
   "metadata": {},
   "outputs": [
    {
     "name": "stdout",
     "output_type": "stream",
     "text": [
      "Starting data preprocessing and SQL queries...\n",
      "Average Engine Temperature Calculation Done.\n",
      "SQL Query Done.\n",
      "    Vehicle ID  avg_engine_temp\n",
      "0         V001        84.984659\n",
      "1         V002        84.938300\n",
      "2         V003        84.990782\n",
      "3         V004        85.008706\n",
      "4         V005        84.995156\n",
      "..         ...              ...\n",
      "195       V196        85.026989\n",
      "196       V197        85.096406\n",
      "197       V198        84.904267\n",
      "198       V199        84.881952\n",
      "199       V200        85.156297\n",
      "\n",
      "[200 rows x 2 columns]\n",
      "Data processing and SQL queries completed.\n",
      "Task completed. Waiting for the next run...\n"
     ]
    }
   ],
   "source": [
    "# Step 4.3: Run the Task in a Loop\n",
    "while True:\n",
    "    preprocess_and_query_data()\n",
    "    print(\"Task completed. Waiting for the next run...\")\n",
    "    time.sleep(86400)  # Sleep for 24 hours (86400 seconds)\n"
   ]
  },
  {
   "cell_type": "code",
   "execution_count": null,
   "id": "5f307e6e",
   "metadata": {},
   "outputs": [],
   "source": []
  },
  {
   "cell_type": "markdown",
   "id": "0d3c9bd8",
   "metadata": {},
   "source": [
    "# 02. Machine Learning Model Development"
   ]
  },
  {
   "cell_type": "markdown",
   "id": "b483e53f",
   "metadata": {},
   "source": [
    "Step 1: Feature Engineering"
   ]
  },
  {
   "cell_type": "code",
   "execution_count": null,
   "id": "aab72b24",
   "metadata": {},
   "outputs": [],
   "source": [
    "# Step 1.1: Import Required Libraries\n",
    "import pandas as pd\n",
    "import numpy as np\n",
    "from sklearn.model_selection import train_test_split\n",
    "from sklearn.preprocessing import StandardScaler\n"
   ]
  },
  {
   "cell_type": "code",
   "execution_count": null,
   "id": "401e2df1",
   "metadata": {},
   "outputs": [],
   "source": [
    "# Step 1.2: Load the Dataset\n",
    "df = pd.read_csv('fleet_health_performance_dataset.csv')\n",
    "\n",
    "# Display the first few rows of the dataset\n",
    "df.head()\n"
   ]
  },
  {
   "cell_type": "code",
   "execution_count": null,
   "id": "330cd732",
   "metadata": {},
   "outputs": [],
   "source": [
    "# Step 1.3: Feature Engineering - Create New Features\n",
    "# Example: Creating a feature for the vehicle's age in days\n",
    "df['Vehicle Age (Days)'] = (pd.to_datetime('today') - pd.to_datetime(df['Timestamp'])).dt.days\n",
    "\n",
    "# Example: Interaction terms or polynomial features\n",
    "df['Engine Temp x Battery SoC'] = df['Engine Temp (°C)'] * df['Battery SoC (%)']\n",
    "\n",
    "# Display the updated DataFrame with new features\n",
    "df.head()\n"
   ]
  },
  {
   "cell_type": "code",
   "execution_count": null,
   "id": "a2063482",
   "metadata": {},
   "outputs": [],
   "source": [
    "# Step 1.4: Select Features and Target Variable\n",
    "features = df[['Engine Temp (°C)', 'Battery SoC (%)', 'Tire Pressure (psi)',\n",
    "              'Distance Traveled (km)', 'Vehicle Age (Days)', 'Engine Temp x Battery SoC']]\n",
    "target = df['Predicted Failure (Days)']\n",
    "\n",
    "# Split the data into training and testing sets\n",
    "X_train, X_test, y_train, y_test = train_test_split(features, target, test_size=0.2, random_state=42)\n",
    "\n",
    "# Standardize the features (important for certain models like SVM)\n",
    "scaler = StandardScaler()\n",
    "X_train_scaled = scaler.fit_transform(X_train)\n",
    "X_test_scaled = scaler.transform(X_test)\n"
   ]
  },
  {
   "cell_type": "markdown",
   "id": "37a29d66",
   "metadata": {},
   "source": [
    "Step 2: Model Selection and Training"
   ]
  },
  {
   "cell_type": "code",
   "execution_count": null,
   "id": "f4caf53f",
   "metadata": {},
   "outputs": [],
   "source": [
    "# Step 2.1: Import Machine Learning Libraries\n",
    "from sklearn.linear_model import LinearRegression\n",
    "from sklearn.ensemble import RandomForestRegressor\n",
    "from sklearn.svm import SVR\n",
    "from sklearn.metrics import mean_absolute_error, mean_squared_error, r2_score\n"
   ]
  },
  {
   "cell_type": "code",
   "execution_count": null,
   "id": "aa16f5d8",
   "metadata": {},
   "outputs": [],
   "source": [
    "# Step 2.2: Train a Linear Regression Model\n",
    "lr_model = LinearRegression()\n",
    "lr_model.fit(X_train_scaled, y_train)\n",
    "\n",
    "# Make predictions\n",
    "y_pred_lr = lr_model.predict(X_test_scaled)\n",
    "\n",
    "# Evaluate the model\n",
    "lr_mae = mean_absolute_error(y_test, y_pred_lr)\n",
    "lr_mse = mean_squared_error(y_test, y_pred_lr)\n",
    "lr_r2 = r2_score(y_test, y_pred_lr)\n",
    "\n",
    "# Display results\n",
    "print(f\"Linear Regression MAE: {lr_mae}\")\n",
    "print(f\"Linear Regression MSE: {lr_mse}\")\n",
    "print(f\"Linear Regression R2: {lr_r2}\")\n"
   ]
  },
  {
   "cell_type": "code",
   "execution_count": null,
   "id": "4f90f277",
   "metadata": {},
   "outputs": [],
   "source": [
    "# Step 2.3: Train a Random Forest Regressor\n",
    "rf_model = RandomForestRegressor(random_state=42)\n",
    "rf_model.fit(X_train_scaled, y_train)\n",
    "\n",
    "# Make predictions\n",
    "y_pred_rf = rf_model.predict(X_test_scaled)\n",
    "\n",
    "# Evaluate the model\n",
    "rf_mae = mean_absolute_error(y_test, y_pred_rf)\n",
    "rf_mse = mean_squared_error(y_test, y_pred_rf)\n",
    "rf_r2 = r2_score(y_test, y_pred_rf)\n",
    "\n",
    "# Display results\n",
    "print(f\"Random Forest MAE: {rf_mae}\")\n",
    "print(f\"Random Forest MSE: {rf_mse}\")\n",
    "print(f\"Random Forest R2: {rf_r2}\")\n"
   ]
  },
  {
   "cell_type": "code",
   "execution_count": null,
   "id": "654fc8c9",
   "metadata": {},
   "outputs": [],
   "source": [
    "# Step 2.4: Train a Support Vector Regressor (SVR)\n",
    "svr_model = SVR()\n",
    "svr_model.fit(X_train_scaled, y_train)\n",
    "\n",
    "# Make predictions\n",
    "y_pred_svr = svr_model.predict(X_test_scaled)\n",
    "\n",
    "# Evaluate the model\n",
    "svr_mae = mean_absolute_error(y_test, y_pred_svr)\n",
    "svr_mse = mean_squared_error(y_test, y_pred_svr)\n",
    "svr_r2 = r2_score(y_test, y_pred_svr)\n",
    "\n",
    "# Display results\n",
    "print(f\"SVR MAE: {svr_mae}\")\n",
    "print(f\"SVR MSE: {svr_mse}\")\n",
    "print(f\"SVR R2: {svr_r2}\")\n"
   ]
  },
  {
   "cell_type": "markdown",
   "id": "c874ed03",
   "metadata": {},
   "source": [
    "Step 3: Model Evaluation and Optimization"
   ]
  },
  {
   "cell_type": "code",
   "execution_count": null,
   "id": "9a0718a7",
   "metadata": {},
   "outputs": [],
   "source": [
    "# Step 3.1: Compare Model Performance\n",
    "models = pd.DataFrame({\n",
    "    'Model': ['Linear Regression', 'Random Forest', 'SVR'],\n",
    "    'MAE': [lr_mae, rf_mae, svr_mae],\n",
    "    'MSE': [lr_mse, rf_mse, svr_mse],\n",
    "    'R2 Score': [lr_r2, rf_r2, svr_r2]\n",
    "})\n",
    "\n",
    "# Display the comparison\n",
    "print(models.sort_values(by='R2 Score', ascending=False))\n"
   ]
  },
  {
   "cell_type": "code",
   "execution_count": null,
   "id": "6757afd5",
   "metadata": {},
   "outputs": [],
   "source": [
    "# Step 3.2: Select the Best Model for Deployment\n",
    "# Assuming Random Forest is the best model based on R2 Score\n",
    "best_model = rf_model\n",
    "\n",
    "# Save the model for deployment (if needed)\n",
    "import joblib\n",
    "joblib.dump(best_model, 'best_fleet_model.pkl')\n",
    "\n",
    "print(\"Best model saved as 'best_fleet_model.pkl'\")\n"
   ]
  },
  {
   "cell_type": "code",
   "execution_count": null,
   "id": "b9725074",
   "metadata": {},
   "outputs": [],
   "source": [
    "# Step 3.3: Hyperparameter Tuning with GridSearchCV (Optional)\n",
    "from sklearn.model_selection import GridSearchCV\n",
    "\n",
    "# Define the parameter grid for Random Forest\n",
    "param_grid = {\n",
    "    'n_estimators': [100, 200, 300],\n",
    "    'max_depth': [None, 10, 20, 30],\n",
    "    'min_samples_split': [2, 5, 10]\n",
    "}\n",
    "\n",
    "# Perform GridSearchCV\n",
    "grid_search = GridSearchCV(estimator=rf_model, param_grid=param_grid, cv=5, n_jobs=-1, verbose=2)\n",
    "grid_search.fit(X_train_scaled, y_train)\n",
    "\n",
    "# Get the best model from GridSearch\n",
    "best_grid_model = grid_search.best_estimator_\n",
    "\n",
    "# Evaluate the best grid model\n",
    "y_pred_grid = best_grid_model.predict(X_test_scaled)\n",
    "grid_mae = mean_absolute_error(y_test, y_pred_grid)\n",
    "grid_mse = mean_squared_error(y_test, y_pred_grid)\n",
    "grid_r2 = r2_score(y_test, y_pred_grid)\n",
    "\n",
    "# Display the tuned model's performance\n",
    "print(f\"Tuned Random Forest MAE: {grid_mae}\")\n",
    "print(f\"Tuned Random Forest MSE: {grid_mse}\")\n",
    "print(f\"Tuned Random Forest R2: {grid_r2}\")\n"
   ]
  },
  {
   "cell_type": "code",
   "execution_count": null,
   "id": "56b5576a",
   "metadata": {},
   "outputs": [],
   "source": []
  },
  {
   "cell_type": "markdown",
   "id": "e5266d5c",
   "metadata": {},
   "source": [
    "# 03. Dashboard Design and Visualization"
   ]
  },
  {
   "cell_type": "markdown",
   "id": "3c71deae",
   "metadata": {},
   "source": [
    "Step 1: Data Preparation for Visualization"
   ]
  },
  {
   "cell_type": "code",
   "execution_count": null,
   "id": "1cd2b55f",
   "metadata": {},
   "outputs": [],
   "source": [
    "# Step 1.1: Import Required Libraries\n",
    "import pandas as pd\n",
    "import sqlite3\n",
    "import matplotlib.pyplot as plt\n",
    "import seaborn as sns\n"
   ]
  },
  {
   "cell_type": "code",
   "execution_count": null,
   "id": "7615995d",
   "metadata": {},
   "outputs": [],
   "source": [
    "# Step 1.2: Load Data from the SQLite Database\n",
    "conn = sqlite3.connect('fleet_health_performance.db')\n",
    "\n",
    "# Load the entire dataset or specific parts needed for visualization\n",
    "df = pd.read_sql('SELECT * FROM fleet_data', conn)\n",
    "\n",
    "# Close the database connection\n",
    "conn.close()\n",
    "\n",
    "# Display the first few rows of the DataFrame\n",
    "df.head()\n"
   ]
  },
  {
   "cell_type": "code",
   "execution_count": null,
   "id": "5014be6a",
   "metadata": {},
   "outputs": [],
   "source": [
    "# Step 1.3: Prepare Data for Visualization\n",
    "# Example: Convert timestamps to datetime if not already done\n",
    "df['Timestamp'] = pd.to_datetime(df['Timestamp'])\n",
    "\n",
    "# Example: Create additional columns or aggregate data as needed\n",
    "avg_temp_per_vehicle = df.groupby('Vehicle ID')['Engine Temp (°C)'].mean().reset_index()\n"
   ]
  },
  {
   "cell_type": "markdown",
   "id": "d3e450e2",
   "metadata": {},
   "source": [
    "Step 2: Create Static Visualizations with Matplotlib and Seaborn"
   ]
  },
  {
   "cell_type": "code",
   "execution_count": null,
   "id": "b8899489",
   "metadata": {},
   "outputs": [],
   "source": [
    "# Step 2.1: Plot Engine Temperature Over Time for a Specific Vehicle\n",
    "plt.figure(figsize=(10, 6))\n",
    "plt.plot(df['Timestamp'], df['Engine Temp (°C)'])\n",
    "plt.title('Engine Temperature Over Time')\n",
    "plt.xlabel('Time')\n",
    "plt.ylabel('Engine Temperature (°C)')\n",
    "plt.show()\n"
   ]
  },
  {
   "cell_type": "code",
   "execution_count": null,
   "id": "8d3f4c5e",
   "metadata": {},
   "outputs": [],
   "source": [
    "# Step 2.2: Plot Average Engine Temperature by Vehicle\n",
    "plt.figure(figsize=(10, 6))\n",
    "sns.barplot(x='Vehicle ID', y='Engine Temp (°C)', data=avg_temp_per_vehicle)\n",
    "plt.title('Average Engine Temperature by Vehicle')\n",
    "plt.xlabel('Vehicle ID')\n",
    "plt.ylabel('Average Engine Temperature (°C)')\n",
    "plt.show()\n"
   ]
  },
  {
   "cell_type": "code",
   "execution_count": null,
   "id": "bd5642ed",
   "metadata": {},
   "outputs": [],
   "source": [
    "# Step 2.3: Create a Heatmap to Show Correlations Between Features\n",
    "plt.figure(figsize=(12, 8))\n",
    "sns.heatmap(df.corr(), annot=True, cmap='coolwarm')\n",
    "plt.title('Feature Correlation Heatmap')\n",
    "plt.show()\n"
   ]
  },
  {
   "cell_type": "markdown",
   "id": "5ead57ee",
   "metadata": {},
   "source": [
    "Step 3: Build Interactive Dashboards Using Plotly and Dash"
   ]
  },
  {
   "cell_type": "code",
   "execution_count": null,
   "id": "29429183",
   "metadata": {},
   "outputs": [],
   "source": [
    "# Step 3.1: Install Plotly and Dash\n",
    "!pip install plotly dash\n"
   ]
  },
  {
   "cell_type": "code",
   "execution_count": null,
   "id": "1be4bbda",
   "metadata": {},
   "outputs": [],
   "source": [
    "# Step 3.2: Set Up a Basic Dash App\n",
    "import dash\n",
    "from dash import dcc, html\n",
    "from dash.dependencies import Input, Output\n",
    "import plotly.express as px\n",
    "\n",
    "# Initialize the Dash app\n",
    "app = dash.Dash(__name__)\n",
    "\n",
    "# Define the layout of the app\n",
    "app.layout = html.Div([\n",
    "    html.H1(\"Fleet Health Monitoring Dashboard\"),\n",
    "    dcc.Dropdown(\n",
    "        id='vehicle-dropdown',\n",
    "        options=[{'label': vehicle, 'value': vehicle} for vehicle in df['Vehicle ID'].unique()],\n",
    "        value=df['Vehicle ID'].unique()[0],\n",
    "        clearable=False\n",
    "    ),\n",
    "    dcc.Graph(id='temp-graph')\n",
    "])\n",
    "\n",
    "# Define the callback to update the graph based on the selected vehicle\n",
    "@app.callback(\n",
    "    Output('temp-graph', 'figure'),\n",
    "    [Input('vehicle-dropdown', 'value')]\n",
    ")\n",
    "def update_graph(selected_vehicle):\n",
    "    filtered_df = df[df['Vehicle ID'] == selected_vehicle]\n",
    "    fig = px.line(filtered_df, x='Timestamp', y='Engine Temp (°C)',\n",
    "                  title=f'Engine Temperature Over Time for Vehicle {selected_vehicle}')\n",
    "    return fig\n",
    "\n",
    "# Run the app\n",
    "if __name__ == '__main__':\n",
    "    app.run_server(debug=True)\n"
   ]
  },
  {
   "cell_type": "code",
   "execution_count": null,
   "id": "b2da082e",
   "metadata": {},
   "outputs": [],
   "source": [
    "# Step 3.3: Add Additional Interactive Elements to the Dashboard\n",
    "app.layout = html.Div([\n",
    "    html.H1(\"Fleet Health Monitoring Dashboard\"),\n",
    "    dcc.Dropdown(\n",
    "        id='vehicle-dropdown',\n",
    "        options=[{'label': vehicle, 'value': vehicle} for vehicle in df['Vehicle ID'].unique()],\n",
    "        value=df['Vehicle ID'].unique()[0],\n",
    "        clearable=False\n",
    "    ),\n",
    "    dcc.Graph(id='temp-graph'),\n",
    "    dcc.Graph(id='battery-graph')\n",
    "])\n",
    "\n",
    "# Update both graphs based on the selected vehicle\n",
    "@app.callback(\n",
    "    [Output('temp-graph', 'figure'),\n",
    "     Output('battery-graph', 'figure')],\n",
    "    [Input('vehicle-dropdown', 'value')]\n",
    ")\n",
    "def update_graphs(selected_vehicle):\n",
    "    filtered_df = df[df['Vehicle ID'] == selected_vehicle]\n",
    "    temp_fig = px.line(filtered_df, x='Timestamp', y='Engine Temp (°C)',\n",
    "                       title=f'Engine Temperature Over Time for Vehicle {selected_vehicle}')\n",
    "    battery_fig = px.line(filtered_df, x='Timestamp', y='Battery SoC (%)',\n",
    "                          title=f'Battery State of Charge Over Time for Vehicle {selected_vehicle}')\n",
    "    return temp_fig, battery_fig\n",
    "\n",
    "if __name__ == '__main__':\n",
    "    app.run_server(debug=True)\n"
   ]
  },
  {
   "cell_type": "markdown",
   "id": "3ccbaa22",
   "metadata": {},
   "source": [
    "Step 4: Deploying the Dashboard"
   ]
  },
  {
   "cell_type": "code",
   "execution_count": null,
   "id": "416be1ee",
   "metadata": {},
   "outputs": [],
   "source": [
    "# Step 4.1: Deploying on a Local Server\n",
    "# This is done by running the script above and accessing the dashboard via a local browser (e.g., http://127.0.0.1:8050/)\n"
   ]
  },
  {
   "cell_type": "code",
   "execution_count": null,
   "id": "cd027132",
   "metadata": {},
   "outputs": [],
   "source": []
  },
  {
   "cell_type": "markdown",
   "id": "0ec4644e",
   "metadata": {},
   "source": [
    "# 04. Post-Deployment Monitoring and Maintenance\n"
   ]
  },
  {
   "cell_type": "markdown",
   "id": "27a74a23",
   "metadata": {},
   "source": [
    "Step 1: System Monitoring"
   ]
  },
  {
   "cell_type": "code",
   "execution_count": null,
   "id": "4ff88e30",
   "metadata": {},
   "outputs": [],
   "source": [
    "# Step 1.1: Import Required Libraries\n",
    "import time\n",
    "import logging\n",
    "from datetime import datetime\n",
    "import psutil  # For system performance monitoring\n"
   ]
  },
  {
   "cell_type": "code",
   "execution_count": null,
   "id": "969f19c5",
   "metadata": {},
   "outputs": [],
   "source": [
    "# Step 1.2: Set Up Logging\n",
    "logging.basicConfig(filename='system_monitor.log', level=logging.INFO,\n",
    "                    format='%(asctime)s %(message)s')\n"
   ]
  },
  {
   "cell_type": "code",
   "execution_count": null,
   "id": "c9b99945",
   "metadata": {},
   "outputs": [],
   "source": [
    "# Step 1.3: Monitor System Performance\n",
    "def monitor_system():\n",
    "    while True:\n",
    "        # Monitor CPU usage\n",
    "        cpu_usage = psutil.cpu_percent(interval=1)\n",
    "        logging.info(f\"CPU Usage: {cpu_usage}%\")\n",
    "        \n",
    "        # Monitor Memory usage\n",
    "        memory = psutil.virtual_memory()\n",
    "        logging.info(f\"Memory Usage: {memory.percent}%\")\n",
    "        \n",
    "        # Monitor Disk usage\n",
    "        disk_usage = psutil.disk_usage('/')\n",
    "        logging.info(f\"Disk Usage: {disk_usage.percent}%\")\n",
    "\n",
    "        # Monitor Network activity\n",
    "        net = psutil.net_io_counters()\n",
    "        logging.info(f\"Bytes Sent: {net.bytes_sent}, Bytes Received: {net.bytes_recv}\")\n",
    "\n",
    "        # Sleep for a defined interval before checking again\n",
    "        time.sleep(3600)  # Monitor every hour\n",
    "\n",
    "# Start monitoring in the background\n",
    "monitor_system()\n"
   ]
  },
  {
   "cell_type": "markdown",
   "id": "bcdd138f",
   "metadata": {},
   "source": [
    "Step 2: Model Retraining and Updates"
   ]
  },
  {
   "cell_type": "code",
   "execution_count": null,
   "id": "7102edb6",
   "metadata": {},
   "outputs": [],
   "source": [
    "# Step 2.1: Import Required Libraries\n",
    "from sklearn.model_selection import train_test_split\n",
    "from sklearn.ensemble import RandomForestRegressor\n",
    "from sklearn.metrics import mean_squared_error\n",
    "import joblib\n",
    "import pandas as pd\n"
   ]
  },
  {
   "cell_type": "code",
   "execution_count": null,
   "id": "2b85f6dd",
   "metadata": {},
   "outputs": [],
   "source": [
    "# Step 2.2: Load New Data and Prepare for Retraining\n",
    "def load_and_prepare_data():\n",
    "    # Load the new dataset\n",
    "    df = pd.read_csv('new_fleet_health_performance_data.csv')\n",
    "    \n",
    "    # Feature engineering (same steps as Part 2)\n",
    "    df['Vehicle Age (Days)'] = (pd.to_datetime('today') - pd.to_datetime(df['Timestamp'])).dt.days\n",
    "    df['Engine Temp x Battery SoC'] = df['Engine Temp (°C)'] * df['Battery SoC (%)']\n",
    "    \n",
    "    # Select features and target\n",
    "    features = df[['Engine Temp (°C)', 'Battery SoC (%)', 'Tire Pressure (psi)',\n",
    "                   'Distance Traveled (km)', 'Vehicle Age (Days)', 'Engine Temp x Battery SoC']]\n",
    "    target = df['Predicted Failure (Days)']\n",
    "    \n",
    "    return train_test_split(features, target, test_size=0.2, random_state=42)\n"
   ]
  },
  {
   "cell_type": "code",
   "execution_count": null,
   "id": "44d685c6",
   "metadata": {},
   "outputs": [],
   "source": [
    "# Step 2.3: Retrain the Model\n",
    "def retrain_model():\n",
    "    X_train, X_test, y_train, y_test = load_and_prepare_data()\n",
    "\n",
    "    # Load the existing model\n",
    "    model = joblib.load('best_fleet_model.pkl')\n",
    "    \n",
    "    # Retrain the model with new data\n",
    "    model.fit(X_train, y_train)\n",
    "\n",
    "    # Evaluate the retrained model\n",
    "    y_pred = model.predict(X_test)\n",
    "    mse = mean_squared_error(y_test, y_pred)\n",
    "    logging.info(f\"Retrained Model MSE: {mse}\")\n",
    "\n",
    "    # Save the retrained model\n",
    "    joblib.dump(model, 'best_fleet_model.pkl')\n",
    "    logging.info(\"Retrained model saved.\")\n",
    "\n",
    "# Schedule model retraining every month\n",
    "while True:\n",
    "    retrain_model()\n",
    "    time.sleep(2592000)  # Retrain every 30 days (2592000 seconds)\n"
   ]
  },
  {
   "cell_type": "markdown",
   "id": "aa0a7292",
   "metadata": {},
   "source": [
    "Step 3: Continuous Improvement"
   ]
  },
  {
   "cell_type": "code",
   "execution_count": null,
   "id": "00f70a10",
   "metadata": {},
   "outputs": [],
   "source": [
    "# Step 3.1: Incorporate User Feedback\n",
    "def gather_user_feedback():\n",
    "    # Simulate feedback collection (e.g., from a form or database)\n",
    "    feedback = {\n",
    "        'feature_requests': ['Add GPS tracking', 'Improve battery monitoring'],\n",
    "        'issues_reported': ['Slow dashboard loading', 'Inaccurate temperature readings']\n",
    "    }\n",
    "    \n",
    "    logging.info(f\"User Feedback: {feedback}\")\n",
    "    return feedback\n"
   ]
  },
  {
   "cell_type": "code",
   "execution_count": null,
   "id": "31a1897d",
   "metadata": {},
   "outputs": [],
   "source": [
    "# Step 3.2: Optimize System Based on Feedback\n",
    "def optimize_system():\n",
    "    feedback = gather_user_feedback()\n",
    "    \n",
    "    # Example: Adjust system based on feedback\n",
    "    if 'Slow dashboard loading' in feedback['issues_reported']:\n",
    "        logging.info(\"Optimization: Streamlining dashboard queries for faster loading.\")\n",
    "        # Implement actual optimization here\n",
    "\n",
    "    if 'Improve battery monitoring' in feedback['feature_requests']:\n",
    "        logging.info(\"Optimization: Enhancing battery monitoring feature.\")\n",
    "        # Implement actual enhancement here\n",
    "\n",
    "# Run optimization periodically\n",
    "while True:\n",
    "    optimize_system()\n",
    "    time.sleep(604800)  # Optimize every week (604800 seconds)\n"
   ]
  },
  {
   "cell_type": "code",
   "execution_count": null,
   "id": "eda1ac71",
   "metadata": {},
   "outputs": [],
   "source": []
  },
  {
   "cell_type": "code",
   "execution_count": null,
   "id": "f3624612",
   "metadata": {},
   "outputs": [],
   "source": []
  }
 ],
 "metadata": {
  "kernelspec": {
   "display_name": "Python 3 (ipykernel)",
   "language": "python",
   "name": "python3"
  },
  "language_info": {
   "codemirror_mode": {
    "name": "ipython",
    "version": 3
   },
   "file_extension": ".py",
   "mimetype": "text/x-python",
   "name": "python",
   "nbconvert_exporter": "python",
   "pygments_lexer": "ipython3",
   "version": "3.11.5"
  }
 },
 "nbformat": 4,
 "nbformat_minor": 5
}
