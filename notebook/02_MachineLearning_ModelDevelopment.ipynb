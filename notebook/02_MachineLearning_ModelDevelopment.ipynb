{
 "cells": [
  {
   "cell_type": "markdown",
   "id": "de36db93",
   "metadata": {},
   "source": [
    "# 02. Machine Learning Model Development"
   ]
  },
  {
   "cell_type": "markdown",
   "id": "320b56da",
   "metadata": {},
   "source": [
    "Step 1: Feature Engineering"
   ]
  },
  {
   "cell_type": "code",
   "execution_count": null,
   "id": "b89ca6d4",
   "metadata": {},
   "outputs": [],
   "source": [
    "# Step 1.1: Import Required Libraries\n",
    "import pandas as pd\n",
    "import numpy as np\n",
    "from sklearn.model_selection import train_test_split\n",
    "from sklearn.preprocessing import StandardScaler\n"
   ]
  },
  {
   "cell_type": "code",
   "execution_count": null,
   "id": "c80d1c0f",
   "metadata": {},
   "outputs": [],
   "source": [
    "# Step 1.2: Load the Dataset\n",
    "df = pd.read_csv('fleet_health_performance_dataset.csv')\n",
    "\n",
    "# Display the first few rows of the dataset\n",
    "df.head()\n"
   ]
  },
  {
   "cell_type": "code",
   "execution_count": null,
   "id": "80eafd73",
   "metadata": {},
   "outputs": [],
   "source": [
    "# Step 1.3: Feature Engineering - Create New Features\n",
    "# Example: Creating a feature for the vehicle's age in days\n",
    "df['Vehicle Age (Days)'] = (pd.to_datetime('today') - pd.to_datetime(df['Timestamp'])).dt.days\n",
    "\n",
    "# Example: Interaction terms or polynomial features\n",
    "df['Engine Temp x Battery SoC'] = df['Engine Temp (°C)'] * df['Battery SoC (%)']\n",
    "\n",
    "# Display the updated DataFrame with new features\n",
    "df.head()\n"
   ]
  },
  {
   "cell_type": "code",
   "execution_count": null,
   "id": "eae9a613",
   "metadata": {},
   "outputs": [],
   "source": [
    "# Step 1.4: Select Features and Target Variable\n",
    "features = df[['Engine Temp (°C)', 'Battery SoC (%)', 'Tire Pressure (psi)',\n",
    "              'Distance Traveled (km)', 'Vehicle Age (Days)', 'Engine Temp x Battery SoC']]\n",
    "target = df['Predicted Failure (Days)']\n",
    "\n",
    "# Split the data into training and testing sets\n",
    "X_train, X_test, y_train, y_test = train_test_split(features, target, test_size=0.2, random_state=42)\n",
    "\n",
    "# Standardize the features (important for certain models like SVM)\n",
    "scaler = StandardScaler()\n",
    "X_train_scaled = scaler.fit_transform(X_train)\n",
    "X_test_scaled = scaler.transform(X_test)\n"
   ]
  },
  {
   "cell_type": "markdown",
   "id": "8442cdb3",
   "metadata": {},
   "source": [
    "Step 2: Model Selection and Training"
   ]
  },
  {
   "cell_type": "code",
   "execution_count": null,
   "id": "32f37c75",
   "metadata": {},
   "outputs": [],
   "source": [
    "# Step 2.1: Import Machine Learning Libraries\n",
    "from sklearn.linear_model import LinearRegression\n",
    "from sklearn.ensemble import RandomForestRegressor\n",
    "from sklearn.svm import SVR\n",
    "from sklearn.metrics import mean_absolute_error, mean_squared_error, r2_score\n"
   ]
  },
  {
   "cell_type": "code",
   "execution_count": null,
   "id": "db7da09b",
   "metadata": {},
   "outputs": [],
   "source": [
    "# Step 2.2: Train a Linear Regression Model\n",
    "lr_model = LinearRegression()\n",
    "lr_model.fit(X_train_scaled, y_train)\n",
    "\n",
    "# Make predictions\n",
    "y_pred_lr = lr_model.predict(X_test_scaled)\n",
    "\n",
    "# Evaluate the model\n",
    "lr_mae = mean_absolute_error(y_test, y_pred_lr)\n",
    "lr_mse = mean_squared_error(y_test, y_pred_lr)\n",
    "lr_r2 = r2_score(y_test, y_pred_lr)\n",
    "\n",
    "# Display results\n",
    "print(f\"Linear Regression MAE: {lr_mae}\")\n",
    "print(f\"Linear Regression MSE: {lr_mse}\")\n",
    "print(f\"Linear Regression R2: {lr_r2}\")\n"
   ]
  },
  {
   "cell_type": "code",
   "execution_count": null,
   "id": "09298c73",
   "metadata": {},
   "outputs": [],
   "source": [
    "# Step 2.3: Train a Random Forest Regressor\n",
    "rf_model = RandomForestRegressor(random_state=42)\n",
    "rf_model.fit(X_train_scaled, y_train)\n",
    "\n",
    "# Make predictions\n",
    "y_pred_rf = rf_model.predict(X_test_scaled)\n",
    "\n",
    "# Evaluate the model\n",
    "rf_mae = mean_absolute_error(y_test, y_pred_rf)\n",
    "rf_mse = mean_squared_error(y_test, y_pred_rf)\n",
    "rf_r2 = r2_score(y_test, y_pred_rf)\n",
    "\n",
    "# Display results\n",
    "print(f\"Random Forest MAE: {rf_mae}\")\n",
    "print(f\"Random Forest MSE: {rf_mse}\")\n",
    "print(f\"Random Forest R2: {rf_r2}\")\n"
   ]
  },
  {
   "cell_type": "code",
   "execution_count": null,
   "id": "6023d240",
   "metadata": {},
   "outputs": [],
   "source": [
    "# Step 2.4: Train a Support Vector Regressor (SVR)\n",
    "svr_model = SVR()\n",
    "svr_model.fit(X_train_scaled, y_train)\n",
    "\n",
    "# Make predictions\n",
    "y_pred_svr = svr_model.predict(X_test_scaled)\n",
    "\n",
    "# Evaluate the model\n",
    "svr_mae = mean_absolute_error(y_test, y_pred_svr)\n",
    "svr_mse = mean_squared_error(y_test, y_pred_svr)\n",
    "svr_r2 = r2_score(y_test, y_pred_svr)\n",
    "\n",
    "# Display results\n",
    "print(f\"SVR MAE: {svr_mae}\")\n",
    "print(f\"SVR MSE: {svr_mse}\")\n",
    "print(f\"SVR R2: {svr_r2}\")\n"
   ]
  },
  {
   "cell_type": "markdown",
   "id": "e78513a3",
   "metadata": {},
   "source": [
    "Step 3: Model Evaluation and Optimization"
   ]
  },
  {
   "cell_type": "code",
   "execution_count": null,
   "id": "e424fe86",
   "metadata": {},
   "outputs": [],
   "source": [
    "# Step 3.1: Compare Model Performance\n",
    "models = pd.DataFrame({\n",
    "    'Model': ['Linear Regression', 'Random Forest', 'SVR'],\n",
    "    'MAE': [lr_mae, rf_mae, svr_mae],\n",
    "    'MSE': [lr_mse, rf_mse, svr_mse],\n",
    "    'R2 Score': [lr_r2, rf_r2, svr_r2]\n",
    "})\n",
    "\n",
    "# Display the comparison\n",
    "print(models.sort_values(by='R2 Score', ascending=False))\n"
   ]
  },
  {
   "cell_type": "code",
   "execution_count": null,
   "id": "65f0b742",
   "metadata": {},
   "outputs": [],
   "source": [
    "# Step 3.2: Select the Best Model for Deployment\n",
    "# Assuming Random Forest is the best model based on R2 Score\n",
    "best_model = rf_model\n",
    "\n",
    "# Save the model for deployment (if needed)\n",
    "import joblib\n",
    "joblib.dump(best_model, 'best_fleet_model.pkl')\n",
    "\n",
    "print(\"Best model saved as 'best_fleet_model.pkl'\")\n"
   ]
  },
  {
   "cell_type": "code",
   "execution_count": null,
   "id": "c46eccc9",
   "metadata": {},
   "outputs": [],
   "source": [
    "# Step 3.3: Hyperparameter Tuning with GridSearchCV (Optional)\n",
    "from sklearn.model_selection import GridSearchCV\n",
    "\n",
    "# Define the parameter grid for Random Forest\n",
    "param_grid = {\n",
    "    'n_estimators': [100, 200, 300],\n",
    "    'max_depth': [None, 10, 20, 30],\n",
    "    'min_samples_split': [2, 5, 10]\n",
    "}\n",
    "\n",
    "# Perform GridSearchCV\n",
    "grid_search = GridSearchCV(estimator=rf_model, param_grid=param_grid, cv=5, n_jobs=-1, verbose=2)\n",
    "grid_search.fit(X_train_scaled, y_train)\n",
    "\n",
    "# Get the best model from GridSearch\n",
    "best_grid_model = grid_search.best_estimator_\n",
    "\n",
    "# Evaluate the best grid model\n",
    "y_pred_grid = best_grid_model.predict(X_test_scaled)\n",
    "grid_mae = mean_absolute_error(y_test, y_pred_grid)\n",
    "grid_mse = mean_squared_error(y_test, y_pred_grid)\n",
    "grid_r2 = r2_score(y_test, y_pred_grid)\n",
    "\n",
    "# Display the tuned model's performance\n",
    "print(f\"Tuned Random Forest MAE: {grid_mae}\")\n",
    "print(f\"Tuned Random Forest MSE: {grid_mse}\")\n",
    "print(f\"Tuned Random Forest R2: {grid_r2}\")\n"
   ]
  },
  {
   "cell_type": "code",
   "execution_count": null,
   "id": "24dbf545",
   "metadata": {},
   "outputs": [],
   "source": []
  }
 ],
 "metadata": {
  "kernelspec": {
   "display_name": "Python 3 (ipykernel)",
   "language": "python",
   "name": "python3"
  },
  "language_info": {
   "codemirror_mode": {
    "name": "ipython",
    "version": 3
   },
   "file_extension": ".py",
   "mimetype": "text/x-python",
   "name": "python",
   "nbconvert_exporter": "python",
   "pygments_lexer": "ipython3",
   "version": "3.11.5"
  }
 },
 "nbformat": 4,
 "nbformat_minor": 5
}
