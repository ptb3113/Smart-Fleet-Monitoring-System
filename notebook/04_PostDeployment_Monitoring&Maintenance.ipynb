{
 "cells": [
  {
   "cell_type": "markdown",
   "id": "1a8621bf",
   "metadata": {},
   "source": [
    "# 04. Post-Deployment Monitoring and Maintenance\n"
   ]
  },
  {
   "cell_type": "markdown",
   "id": "1612ce89",
   "metadata": {},
   "source": [
    "Step 1: System Monitoring"
   ]
  },
  {
   "cell_type": "code",
   "execution_count": null,
   "id": "b5374f1d",
   "metadata": {},
   "outputs": [],
   "source": [
    "# Step 1.1: Import Required Libraries\n",
    "import time\n",
    "import logging\n",
    "from datetime import datetime\n",
    "import psutil  # For system performance monitoring\n"
   ]
  },
  {
   "cell_type": "code",
   "execution_count": null,
   "id": "db853c9c",
   "metadata": {},
   "outputs": [],
   "source": [
    "# Step 1.2: Set Up Logging\n",
    "logging.basicConfig(filename='system_monitor.log', level=logging.INFO,\n",
    "                    format='%(asctime)s %(message)s')\n"
   ]
  },
  {
   "cell_type": "code",
   "execution_count": null,
   "id": "d171d003",
   "metadata": {},
   "outputs": [],
   "source": [
    "# Step 1.3: Monitor System Performance\n",
    "def monitor_system():\n",
    "    while True:\n",
    "        # Monitor CPU usage\n",
    "        cpu_usage = psutil.cpu_percent(interval=1)\n",
    "        logging.info(f\"CPU Usage: {cpu_usage}%\")\n",
    "        \n",
    "        # Monitor Memory usage\n",
    "        memory = psutil.virtual_memory()\n",
    "        logging.info(f\"Memory Usage: {memory.percent}%\")\n",
    "        \n",
    "        # Monitor Disk usage\n",
    "        disk_usage = psutil.disk_usage('/')\n",
    "        logging.info(f\"Disk Usage: {disk_usage.percent}%\")\n",
    "\n",
    "        # Monitor Network activity\n",
    "        net = psutil.net_io_counters()\n",
    "        logging.info(f\"Bytes Sent: {net.bytes_sent}, Bytes Received: {net.bytes_recv}\")\n",
    "\n",
    "        # Sleep for a defined interval before checking again\n",
    "        time.sleep(3600)  # Monitor every hour\n",
    "\n",
    "# Start monitoring in the background\n",
    "monitor_system()\n"
   ]
  },
  {
   "cell_type": "markdown",
   "id": "fe11e5e3",
   "metadata": {},
   "source": [
    "Step 2: Model Retraining and Updates"
   ]
  },
  {
   "cell_type": "code",
   "execution_count": null,
   "id": "28d3a21d",
   "metadata": {},
   "outputs": [],
   "source": [
    "# Step 2.1: Import Required Libraries\n",
    "from sklearn.model_selection import train_test_split\n",
    "from sklearn.ensemble import RandomForestRegressor\n",
    "from sklearn.metrics import mean_squared_error\n",
    "import joblib\n",
    "import pandas as pd\n"
   ]
  },
  {
   "cell_type": "code",
   "execution_count": null,
   "id": "3233f38f",
   "metadata": {},
   "outputs": [],
   "source": [
    "# Step 2.2: Load New Data and Prepare for Retraining\n",
    "def load_and_prepare_data():\n",
    "    # Load the new dataset\n",
    "    df = pd.read_csv('new_fleet_health_performance_data.csv')\n",
    "    \n",
    "    # Feature engineering (same steps as Part 2)\n",
    "    df['Vehicle Age (Days)'] = (pd.to_datetime('today') - pd.to_datetime(df['Timestamp'])).dt.days\n",
    "    df['Engine Temp x Battery SoC'] = df['Engine Temp (°C)'] * df['Battery SoC (%)']\n",
    "    \n",
    "    # Select features and target\n",
    "    features = df[['Engine Temp (°C)', 'Battery SoC (%)', 'Tire Pressure (psi)',\n",
    "                   'Distance Traveled (km)', 'Vehicle Age (Days)', 'Engine Temp x Battery SoC']]\n",
    "    target = df['Predicted Failure (Days)']\n",
    "    \n",
    "    return train_test_split(features, target, test_size=0.2, random_state=42)\n"
   ]
  },
  {
   "cell_type": "code",
   "execution_count": null,
   "id": "3a2e881a",
   "metadata": {},
   "outputs": [],
   "source": [
    "# Step 2.3: Retrain the Model\n",
    "def retrain_model():\n",
    "    X_train, X_test, y_train, y_test = load_and_prepare_data()\n",
    "\n",
    "    # Load the existing model\n",
    "    model = joblib.load('best_fleet_model.pkl')\n",
    "    \n",
    "    # Retrain the model with new data\n",
    "    model.fit(X_train, y_train)\n",
    "\n",
    "    # Evaluate the retrained model\n",
    "    y_pred = model.predict(X_test)\n",
    "    mse = mean_squared_error(y_test, y_pred)\n",
    "    logging.info(f\"Retrained Model MSE: {mse}\")\n",
    "\n",
    "    # Save the retrained model\n",
    "    joblib.dump(model, 'best_fleet_model.pkl')\n",
    "    logging.info(\"Retrained model saved.\")\n",
    "\n",
    "# Schedule model retraining every month\n",
    "while True:\n",
    "    retrain_model()\n",
    "    time.sleep(2592000)  # Retrain every 30 days (2592000 seconds)\n"
   ]
  },
  {
   "cell_type": "markdown",
   "id": "bd34b3b9",
   "metadata": {},
   "source": [
    "Step 3: Continuous Improvement"
   ]
  },
  {
   "cell_type": "code",
   "execution_count": null,
   "id": "fe142cbe",
   "metadata": {},
   "outputs": [],
   "source": [
    "# Step 3.1: Incorporate User Feedback\n",
    "def gather_user_feedback():\n",
    "    # Simulate feedback collection (e.g., from a form or database)\n",
    "    feedback = {\n",
    "        'feature_requests': ['Add GPS tracking', 'Improve battery monitoring'],\n",
    "        'issues_reported': ['Slow dashboard loading', 'Inaccurate temperature readings']\n",
    "    }\n",
    "    \n",
    "    logging.info(f\"User Feedback: {feedback}\")\n",
    "    return feedback\n"
   ]
  },
  {
   "cell_type": "code",
   "execution_count": null,
   "id": "8d826daa",
   "metadata": {},
   "outputs": [],
   "source": [
    "# Step 3.2: Optimize System Based on Feedback\n",
    "def optimize_system():\n",
    "    feedback = gather_user_feedback()\n",
    "    \n",
    "    # Example: Adjust system based on feedback\n",
    "    if 'Slow dashboard loading' in feedback['issues_reported']:\n",
    "        logging.info(\"Optimization: Streamlining dashboard queries for faster loading.\")\n",
    "        # Implement actual optimization here\n",
    "\n",
    "    if 'Improve battery monitoring' in feedback['feature_requests']:\n",
    "        logging.info(\"Optimization: Enhancing battery monitoring feature.\")\n",
    "        # Implement actual enhancement here\n",
    "\n",
    "# Run optimization periodically\n",
    "while True:\n",
    "    optimize_system()\n",
    "    time.sleep(604800)  # Optimize every week (604800 seconds)\n"
   ]
  },
  {
   "cell_type": "code",
   "execution_count": null,
   "id": "22ee4a13",
   "metadata": {},
   "outputs": [],
   "source": []
  },
  {
   "cell_type": "code",
   "execution_count": null,
   "id": "ba446977",
   "metadata": {},
   "outputs": [],
   "source": []
  }
 ],
 "metadata": {
  "kernelspec": {
   "display_name": "Python 3 (ipykernel)",
   "language": "python",
   "name": "python3"
  },
  "language_info": {
   "codemirror_mode": {
    "name": "ipython",
    "version": 3
   },
   "file_extension": ".py",
   "mimetype": "text/x-python",
   "name": "python",
   "nbconvert_exporter": "python",
   "pygments_lexer": "ipython3",
   "version": "3.11.5"
  }
 },
 "nbformat": 4,
 "nbformat_minor": 5
}
